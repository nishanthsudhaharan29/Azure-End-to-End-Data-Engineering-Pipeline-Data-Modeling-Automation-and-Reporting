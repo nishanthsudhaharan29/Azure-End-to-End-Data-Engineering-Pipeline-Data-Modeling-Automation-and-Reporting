{
 "cells": [
  {
   "cell_type": "code",
   "execution_count": 0,
   "metadata": {
    "application/vnd.databricks.v1+cell": {
     "cellMetadata": {
      "byteLimit": 2048000,
      "rowLimit": 10000
     },
     "inputWidgets": {},
     "nuid": "d7203b91-340d-43a8-877c-441b8bb74a56",
     "showTitle": false,
     "tableResultSettingsMap": {},
     "title": ""
    }
   },
   "outputs": [],
   "source": [
    "from pyspark.sql.types import *\n",
    "from pyspark.sql.functions import *\n",
    "import json"
   ]
  },
  {
   "cell_type": "code",
   "execution_count": 0,
   "metadata": {
    "application/vnd.databricks.v1+cell": {
     "cellMetadata": {
      "byteLimit": 2048000,
      "rowLimit": 10000
     },
     "inputWidgets": {},
     "nuid": "2635004f-7f50-4794-883e-d61eb23aeef0",
     "showTitle": false,
     "tableResultSettingsMap": {},
     "title": ""
    }
   },
   "outputs": [],
   "source": [
    "# get the output parameters from the previous notebook\n",
    "dbutils.widgets.text(\"bronze_path\", \"\")\n",
    "dbutils.widgets.text(\"silver_path\", \"\")\n",
    "dbutils.widgets.text(\"gold_path\", \"\")\n",
    "\n",
    "bronze_path= dbutils.widgets.get(\"bronze_path\")\n",
    "silver_path= dbutils.widgets.get(\"silver_path\")\n",
    "gold_path= dbutils.widgets.get(\"gold_path\")"
   ]
  },
  {
   "cell_type": "code",
   "execution_count": 0,
   "metadata": {
    "application/vnd.databricks.v1+cell": {
     "cellMetadata": {
      "byteLimit": 2048000,
      "rowLimit": 10000
     },
     "inputWidgets": {},
     "nuid": "caf594e5-b79c-4a9e-86cc-e07059d40a49",
     "showTitle": false,
     "tableResultSettingsMap": {},
     "title": ""
    }
   },
   "outputs": [
    {
     "output_type": "execute_result",
     "data": {
      "text/plain": [
       "['Album',\n",
       " 'Artist',\n",
       " 'Customer',\n",
       " 'Employee',\n",
       " 'Genre',\n",
       " 'Invoice',\n",
       " 'InvoiceLine',\n",
       " 'MediaType',\n",
       " 'Playlist',\n",
       " 'PlaylistTrack',\n",
       " 'Track']"
      ]
     },
     "execution_count": 30,
     "metadata": {},
     "output_type": "execute_result"
    }
   ],
   "source": [
    "# # comment later while running with the pipeline\n",
    "# # ADLS paths\n",
    "# tiers = [\"bronze\", \"silver\", \"gold\"]\n",
    "# adls_paths = {tier: f\"abfss://{tier}@adlschinook.dfs.core.windows.net\" for tier in tiers}\n",
    "# bronze_path = adls_paths[\"bronze\"]\n",
    "# silver_path = adls_paths[\"silver\"]\n",
    "# gold_path = adls_paths[\"gold\"]\n",
    "# bronze_path"
   ]
  },
  {
   "cell_type": "code",
   "execution_count": 0,
   "metadata": {
    "application/vnd.databricks.v1+cell": {
     "cellMetadata": {
      "byteLimit": 2048000,
      "rowLimit": 10000
     },
     "inputWidgets": {},
     "nuid": "c9ebbd2b-0612-4935-9748-6540a52d152d",
     "showTitle": false,
     "tableResultSettingsMap": {},
     "title": ""
    }
   },
   "outputs": [
    {
     "output_type": "execute_result",
     "data": {
      "text/plain": [
       "['Album',\n",
       " 'Artist',\n",
       " 'Customer',\n",
       " 'Employee',\n",
       " 'Genre',\n",
       " 'Invoice',\n",
       " 'InvoiceLine',\n",
       " 'MediaType',\n",
       " 'Playlist',\n",
       " 'PlaylistTrack',\n",
       " 'Track']"
      ]
     },
     "execution_count": 33,
     "metadata": {},
     "output_type": "execute_result"
    }
   ],
   "source": [
    "# list the files inside the bronze firectory\n",
    "silver_directory= dbutils.fs.ls(f\"{silver_path}/dbo\")\n",
    "# split the filename to just get the tablenames\n",
    "table_names =[]\n",
    "for files in silver_directory:\n",
    "    table_names.append(files.name.split(\"/\")[0])\n",
    "table_names"
   ]
  },
  {
   "cell_type": "code",
   "execution_count": 0,
   "metadata": {
    "application/vnd.databricks.v1+cell": {
     "cellMetadata": {
      "byteLimit": 2048000,
      "rowLimit": 10000
     },
     "inputWidgets": {},
     "nuid": "17df7eaf-9c91-4358-9919-61964ccba74c",
     "showTitle": false,
     "tableResultSettingsMap": {},
     "title": ""
    }
   },
   "outputs": [
    {
     "output_type": "stream",
     "name": "stdout",
     "output_type": "stream",
     "text": [
      "Success writing table Album to the gold ADLS \nSuccess writing table Artist to the gold ADLS \nSuccess writing table Customer to the gold ADLS \nSuccess writing table Employee to the gold ADLS \nSuccess writing table Genre to the gold ADLS \nSuccess writing table Invoice to the gold ADLS \nSuccess writing table InvoiceLine to the gold ADLS \nSuccess writing table MediaType to the gold ADLS \nSuccess writing table Playlist to the gold ADLS \nSuccess writing table PlaylistTrack to the gold ADLS \nSuccess writing table Track to the gold ADLS \n"
     ]
    }
   ],
   "source": [
    "# iterate through each file and make transformations if necessary and write ti the gold ADLS\n",
    "for name in table_names:\n",
    "    file_path = f\"{silver_path}/dbo/{name}\"\n",
    "    df = spark.read\\\n",
    "        .format(\"parquet\")\\\n",
    "            .load(file_path)\n",
    "\n",
    "    if name == \"Customer\" or name == \"Employee\":\n",
    "        df= df.withColumn(\"Phone\", regexp_replace(\"Phone\", r\"[^0-9 ]+\", \"\"))\\\n",
    "            .withColumn(\"Fax\", regexp_replace(\"Fax\", r\"[^0-9 ]+\", \"\"))\n",
    "        df= df.withColumn(\"CountryCode\", split(col(\"Phone\"), \" \", 2).getItem(0))\\\n",
    "            .withColumn(\"Phone\", split(col(\"Phone\"), \" \", 2).getItem(1))\\\n",
    "                .withColumn(\"Fax\", split(col(\"Fax\"), \" \", 2).getItem(1))\n",
    "        df= df.withColumn(\"Phone\", regexp_replace(\"Phone\", r\"[^0-9]+\", \"\"))\\\n",
    "            .withColumn(\"Fax\", regexp_replace(\"Fax\", r\"[^0-9]+\", \"\"))\n",
    "\n",
    "    if name == \"Invoice\":\n",
    "        df= df.withColumnRenamed(\"Total\", \"TotalPrice\")\n",
    "    \n",
    "    try:\n",
    "        df.write\\\n",
    "            .format(\"delta\")\\\n",
    "                .option(\"overwriteSchema\", True)\\\n",
    "                    .mode(\"overwrite\")\\\n",
    "                        .save(f\"{gold_path}/dbo/{name}\")\n",
    "        print(f\"Success writing table {name} to the gold ADLS \")\n",
    "    except Exception as e:\n",
    "        print(f\"Error writing table {name} to the gold ADLS\")\n",
    "\n",
    "\n",
    "      "
   ]
  },
  {
   "cell_type": "code",
   "execution_count": 0,
   "metadata": {
    "application/vnd.databricks.v1+cell": {
     "cellMetadata": {},
     "inputWidgets": {},
     "nuid": "6087a19a-cc57-4fd6-97b5-1fb0854080d5",
     "showTitle": false,
     "tableResultSettingsMap": {},
     "title": ""
    }
   },
   "outputs": [],
   "source": []
  }
 ],
 "metadata": {
  "application/vnd.databricks.v1+notebook": {
   "computePreferences": null,
   "dashboards": [],
   "environmentMetadata": {
    "base_environment": "",
    "environment_version": "2"
   },
   "inputWidgetPreferences": null,
   "language": "python",
   "notebookMetadata": {
    "pythonIndentUnit": 4
   },
   "notebookName": "Silver to Gold Notebook",
   "widgets": {
    "bronze_path": {
     "currentValue": "",
     "nuid": "79d7fc3e-a51a-4f42-ac9e-b111569d72ff",
     "typedWidgetInfo": {
      "autoCreated": false,
      "defaultValue": "",
      "label": null,
      "name": "bronze_path",
      "options": {
       "widgetDisplayType": "Text",
       "validationRegex": null
      },
      "parameterDataType": "String"
     },
     "widgetInfo": {
      "widgetType": "text",
      "defaultValue": "",
      "label": null,
      "name": "bronze_path",
      "options": {
       "widgetType": "text",
       "autoCreated": null,
       "validationRegex": null
      }
     }
    },
    "gold_path": {
     "currentValue": "",
     "nuid": "cada61bb-3857-4be3-bbc8-b2a9d0fa3033",
     "typedWidgetInfo": {
      "autoCreated": false,
      "defaultValue": "",
      "label": null,
      "name": "gold_path",
      "options": {
       "widgetDisplayType": "Text",
       "validationRegex": null
      },
      "parameterDataType": "String"
     },
     "widgetInfo": {
      "widgetType": "text",
      "defaultValue": "",
      "label": null,
      "name": "gold_path",
      "options": {
       "widgetType": "text",
       "autoCreated": null,
       "validationRegex": null
      }
     }
    },
    "silver_path": {
     "currentValue": "",
     "nuid": "bd6e0f5c-1be4-4565-a350-656930a882f1",
     "typedWidgetInfo": {
      "autoCreated": false,
      "defaultValue": "",
      "label": null,
      "name": "silver_path",
      "options": {
       "widgetDisplayType": "Text",
       "validationRegex": null
      },
      "parameterDataType": "String"
     },
     "widgetInfo": {
      "widgetType": "text",
      "defaultValue": "",
      "label": null,
      "name": "silver_path",
      "options": {
       "widgetType": "text",
       "autoCreated": null,
       "validationRegex": null
      }
     }
    },
    "table_names": {
     "currentValue": "",
     "nuid": "3ce58065-4b48-491c-a21c-8265261e8bba",
     "typedWidgetInfo": {
      "autoCreated": false,
      "defaultValue": "",
      "label": null,
      "name": "table_names",
      "options": {
       "widgetDisplayType": "Text",
       "validationRegex": null
      },
      "parameterDataType": "String"
     },
     "widgetInfo": {
      "widgetType": "text",
      "defaultValue": "",
      "label": null,
      "name": "table_names",
      "options": {
       "widgetType": "text",
       "autoCreated": null,
       "validationRegex": null
      }
     }
    }
   }
  },
  "language_info": {
   "name": "python"
  }
 },
 "nbformat": 4,
 "nbformat_minor": 0
}