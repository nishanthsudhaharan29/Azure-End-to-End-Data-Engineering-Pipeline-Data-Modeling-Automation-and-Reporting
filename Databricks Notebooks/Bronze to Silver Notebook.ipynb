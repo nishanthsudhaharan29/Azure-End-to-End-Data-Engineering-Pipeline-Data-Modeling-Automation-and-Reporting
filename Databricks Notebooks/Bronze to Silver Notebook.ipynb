{
 "cells": [
  {
   "cell_type": "code",
   "execution_count": 0,
   "metadata": {
    "application/vnd.databricks.v1+cell": {
     "cellMetadata": {
      "byteLimit": 2048000,
      "rowLimit": 10000
     },
     "inputWidgets": {},
     "nuid": "319e9bdd-3d64-4057-bdb5-1ab9260ad8a1",
     "showTitle": false,
     "tableResultSettingsMap": {},
     "title": ""
    }
   },
   "outputs": [],
   "source": [
    "from pyspark.sql.types import *\n",
    "from pyspark.sql.functions import *\n",
    "import json"
   ]
  },
  {
   "cell_type": "code",
   "execution_count": 0,
   "metadata": {
    "application/vnd.databricks.v1+cell": {
     "cellMetadata": {
      "byteLimit": 2048000,
      "rowLimit": 10000
     },
     "inputWidgets": {},
     "nuid": "817d03fe-4111-42f4-846b-d247216a5cb2",
     "showTitle": false,
     "tableResultSettingsMap": {},
     "title": ""
    }
   },
   "outputs": [
    {
     "output_type": "execute_result",
     "data": {
      "text/plain": [
       "'abfss://bronze@adlschinook.dfs.core.windows.net'"
      ]
     },
     "execution_count": 27,
     "metadata": {},
     "output_type": "execute_result"
    }
   ],
   "source": [
    "# ADLS paths\n",
    "tiers = [\"bronze\", \"silver\", \"gold\"]\n",
    "adls_paths = {tier: f\"abfss://{tier}@adlschinook.dfs.core.windows.net\" for tier in tiers}\n",
    "bronze_path = adls_paths[\"bronze\"]\n",
    "silver_path = adls_paths[\"silver\"]\n",
    "gold_path = adls_paths[\"gold\"]\n",
    "bronze_path"
   ]
  },
  {
   "cell_type": "code",
   "execution_count": 0,
   "metadata": {
    "application/vnd.databricks.v1+cell": {
     "cellMetadata": {
      "byteLimit": 2048000,
      "rowLimit": 10000
     },
     "inputWidgets": {},
     "nuid": "a2e5b5cb-10ad-4ca5-b7ab-ba62ed3ef313",
     "showTitle": false,
     "tableResultSettingsMap": {},
     "title": ""
    }
   },
   "outputs": [
    {
     "output_type": "execute_result",
     "data": {
      "text/plain": [
       "['Album',\n",
       " 'Artist',\n",
       " 'Customer',\n",
       " 'Employee',\n",
       " 'Genre',\n",
       " 'Invoice',\n",
       " 'InvoiceLine',\n",
       " 'MediaType',\n",
       " 'Playlist',\n",
       " 'PlaylistTrack',\n",
       " 'Track']"
      ]
     },
     "execution_count": 28,
     "metadata": {},
     "output_type": "execute_result"
    }
   ],
   "source": [
    "# list the files inside the bronze firectory\n",
    "bronze_directory= dbutils.fs.ls(f\"{bronze_path}/dbo\")\n",
    "# split the filename to just get the tablenames\n",
    "table_names =[]\n",
    "for files in bronze_directory:\n",
    "    table_names.append(files.name.split(\"/\")[0])\n",
    "table_names"
   ]
  },
  {
   "cell_type": "code",
   "execution_count": 0,
   "metadata": {
    "application/vnd.databricks.v1+cell": {
     "cellMetadata": {
      "byteLimit": 2048000,
      "rowLimit": 10000
     },
     "inputWidgets": {},
     "nuid": "19143a11-673d-4cc2-8db4-a6ef35a25034",
     "showTitle": false,
     "tableResultSettingsMap": {},
     "title": ""
    }
   },
   "outputs": [
    {
     "output_type": "stream",
     "name": "stdout",
     "output_type": "stream",
     "text": [
      "Table Album written to silver ADLS successfully\nTable Artist written to silver ADLS successfully\nTable Customer written to silver ADLS successfully\nTable Employee written to silver ADLS successfully\nTable Genre written to silver ADLS successfully\nTable Invoice written to silver ADLS successfully\nTable InvoiceLine written to silver ADLS successfully\nTable MediaType written to silver ADLS successfully\nTable Playlist written to silver ADLS successfully\nTable PlaylistTrack written to silver ADLS successfully\nTable Track written to silver ADLS successfully\n"
     ]
    }
   ],
   "source": [
    "# iterate through each file and make transformations if necessary and write ti the silver ADLS\n",
    "for name in table_names:\n",
    "  file_path = f\"{bronze_path}/dbo/{name}\"\n",
    "  df = spark.read\\\n",
    "    .format(\"parquet\")\\\n",
    "      .load(file_path)\n",
    "  \n",
    "  if name == \"Employee\":\n",
    "    df= df.withColumn(\"BirthDate\", col(\"BirthDate\").cast(\"date\"))\\\n",
    "      .withColumn(\"HireDate\", col(\"HireDate\").cast(\"date\"))\n",
    "    \n",
    "  if name == \"Invoice\":\n",
    "    df= df.withColumn(\"InvoiceDate\", col(\"InvoiceDate\").cast(\"date\"))\\\n",
    "      .withColumn(\"PricePerQuantity\", lit(0.99))\\\n",
    "        .withColumn(\"Quantity\", (col(\"Total\")/0.99).cast(\"integer\"))\n",
    " \n",
    "  if name == \"Track\":\n",
    "    df= df.withColumn(\"Seconds\", (col(\"Milliseconds\")/1000).cast(\"integer\"))\\\n",
    "      .withColumn(\"MegaBytes\", round(col(\"Bytes\")/1024/1024, 2))\n",
    "    df= df.drop(\"Milliseconds\", \"Bytes\")\n",
    "\n",
    "  try:\n",
    "    df.write\\\n",
    "      .format(\"parquet\")\\\n",
    "        .mode(\"overwrite\")\\\n",
    "          .save(f\"{silver_path}/dbo/{name}\")\n",
    "    print(f\"Table {name} written to silver ADLS successfully\")\n",
    "  except Exception as e:\n",
    "    print(f\"Table {name} failed to write to silver ADLS: {e}\")"
   ]
  },
  {
   "cell_type": "code",
   "execution_count": 0,
   "metadata": {
    "application/vnd.databricks.v1+cell": {
     "cellMetadata": {
      "byteLimit": 2048000,
      "rowLimit": 10000
     },
     "inputWidgets": {},
     "nuid": "cb5215cf-ec18-4538-b212-3f3a1f7962d5",
     "showTitle": false,
     "tableResultSettingsMap": {},
     "title": ""
    }
   },
   "outputs": [],
   "source": [
    "# pass the output parameters\n",
    "output_params = {\n",
    "    \"bronze_path\": bronze_path,\n",
    "    \"silver_path\": silver_path,\n",
    "    \"gold_path\": gold_path\n",
    "} \n",
    "dbutils.notebook.exit(json.dumps(output_params))"
   ]
  },
  {
   "cell_type": "code",
   "execution_count": 0,
   "metadata": {
    "application/vnd.databricks.v1+cell": {
     "cellMetadata": {},
     "inputWidgets": {},
     "nuid": "f40bbc4d-6811-49c5-92e5-1ecc19d86806",
     "showTitle": false,
     "tableResultSettingsMap": {},
     "title": ""
    }
   },
   "outputs": [],
   "source": []
  }
 ],
 "metadata": {
  "application/vnd.databricks.v1+notebook": {
   "computePreferences": null,
   "dashboards": [],
   "environmentMetadata": {
    "base_environment": "",
    "environment_version": "2"
   },
   "inputWidgetPreferences": null,
   "language": "python",
   "notebookMetadata": {
    "pythonIndentUnit": 4
   },
   "notebookName": "Bronze to Silver Notebook",
   "widgets": {}
  },
  "language_info": {
   "name": "python"
  }
 },
 "nbformat": 4,
 "nbformat_minor": 0
}